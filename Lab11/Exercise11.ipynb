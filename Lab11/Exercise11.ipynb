{
 "cells": [
  {
   "cell_type": "markdown",
   "metadata": {},
   "source": [
    "# Exercise 11"
   ]
  },
  {
   "cell_type": "markdown",
   "metadata": {},
   "source": [
    "Answer the following questins. Write your R codes in the cells provided. Submit this file to Moodle. "
   ]
  },
  {
   "cell_type": "markdown",
   "metadata": {},
   "source": [
    "### Question 1 (50%)"
   ]
  },
  {
   "cell_type": "markdown",
   "metadata": {},
   "source": [
    "Apply k nearest neighbour to classify the species of iris in the dataset <i>iris</i>. \n",
    "\n",
    "Set the seed of random number generator to be 100. Randomise the rows of dataset by the function sample(). \n",
    "\n",
    "Normalise the scales of the first four variables by the function <b>scale()</b>. These four variables are the input variables. The output variable is <b>Species</b> (column 5).  \n",
    "\n",
    "Use the first 100 rows (after randomisation) to train the algorithm and the remaining rows to test. \n",
    "\n",
    "Report the error rates for k = 1, 5, 10, 15. What is your recommendation on the value of k?\n"
   ]
  },
  {
   "cell_type": "markdown",
   "metadata": {},
   "source": [
    "### Answer:"
   ]
  },
  {
   "cell_type": "markdown",
   "metadata": {},
   "source": [
    "Code:"
   ]
  },
  {
   "cell_type": "code",
   "execution_count": 11,
   "metadata": {},
   "outputs": [
    {
     "name": "stdout",
     "output_type": "stream",
     "text": [
      "'data.frame':\t150 obs. of  5 variables:\n",
      " $ Sepal.Length: num  5.1 4.9 4.7 4.6 5 5.4 4.6 5 4.4 4.9 ...\n",
      " $ Sepal.Width : num  3.5 3 3.2 3.1 3.6 3.9 3.4 3.4 2.9 3.1 ...\n",
      " $ Petal.Length: num  1.4 1.4 1.3 1.5 1.4 1.7 1.4 1.5 1.4 1.5 ...\n",
      " $ Petal.Width : num  0.2 0.2 0.2 0.2 0.2 0.4 0.3 0.2 0.2 0.1 ...\n",
      " $ Species     : Factor w/ 3 levels \"setosa\",\"versicolor\",..: 1 1 1 1 1 1 1 1 1 1 ...\n"
     ]
    }
   ],
   "source": [
    "library(class)\n",
    "set.seed(100)\n",
    "data(iris)\n",
    "str(iris)"
   ]
  },
  {
   "cell_type": "code",
   "execution_count": 4,
   "metadata": {},
   "outputs": [],
   "source": [
    "rand_iris <- iris[sample(nrow(iris)),]\n",
    "scale_iris <- as.data.frame(scale(rand_iris[,1:4]))\n",
    "\n",
    "training.set <- scale_iris[1:100,]\n",
    "testing.set <- scale_iris[101:150,]\n",
    "training.label <- rand_iris[1:100,5]\n",
    "testing.label <- rand_iris[101:150,5]\n"
   ]
  },
  {
   "cell_type": "code",
   "execution_count": 5,
   "metadata": {},
   "outputs": [],
   "source": [
    "# implement the knn here\n"
   ]
  },
  {
   "cell_type": "markdown",
   "metadata": {},
   "source": [
    "Finding:"
   ]
  },
  {
   "cell_type": "markdown",
   "metadata": {},
   "source": [
    "write down your finding here"
   ]
  },
  {
   "cell_type": "markdown",
   "metadata": {},
   "source": [
    "### Question 2 (50%)"
   ]
  },
  {
   "cell_type": "markdown",
   "metadata": {},
   "source": [
    "Consider the dataset <i>food.rda</i>. Train a feedforward neural network with a single hidden layer to predict <b>Food.energy.calories</b> by <b>Fat.gram</b>, <b>Carbohydrates.grams</b>, <b>Protein.grams</b>, <b>Cholesterol.mg</b>, <b>Saturated.fat.grams</b>. \n",
    "\n",
    "Set the seed the random number generator to be 2046. Randomly the rows of dataset by the function <b>sample()</b>. \n",
    "\n",
    "Since the variables are skewed, transform them by the function <b>sqrt()</b>. \n",
    "\n",
    "Normalise the transformed variable by the function <b>scale()</b>. \n",
    "\n",
    "Train the neural network with the first 75 rows and the next 25 rows are put in testing set. \n",
    "\n",
    "Set the number of neurons in the hidden layer to be 10. \n",
    "\n",
    "Write down the correlation coefficient and the root mean square error between the predicted values and the output values in the testing set. Repeat for the number of neurons to be 20. How would you interpret the result?\n"
   ]
  },
  {
   "cell_type": "markdown",
   "metadata": {},
   "source": [
    "### Answer:"
   ]
  },
  {
   "cell_type": "markdown",
   "metadata": {},
   "source": [
    "Code:"
   ]
  },
  {
   "cell_type": "code",
   "execution_count": 10,
   "metadata": {},
   "outputs": [
    {
     "name": "stdout",
     "output_type": "stream",
     "text": [
      "'data.frame':\t961 obs. of  7 variables:\n",
      " $ Fat.grams           : int  2 6 1 0 0 1 0 0 0 0 ...\n",
      " $ Food.energy.calories: int  25 60 90 90 10 70 125 155 15 15 ...\n",
      " $ Carbohydrates.grams : int  2 2 22 22 1 21 29 42 3 3 ...\n",
      " $ Protein.grams       : int  0 0 4 3 1 4 3 1 2 2 ...\n",
      " $ Cholesterol.mg      : int  2 4 0 0 0 0 0 0 0 0 ...\n",
      " $ weight.grams        : num  15 16 28.4 28.4 33 ...\n",
      " $ Saturated.fat.grams : num  0.2 1 0.1 0.1 0 0.1 0 0 0.1 0 ...\n"
     ]
    }
   ],
   "source": [
    "library(Metrics)\n",
    "library(neuralnet)\n",
    "set.seed(2046)\n",
    "load(\"food.rda\")\n",
    "str(food)"
   ]
  },
  {
   "cell_type": "code",
   "execution_count": 7,
   "metadata": {
    "scrolled": false
   },
   "outputs": [],
   "source": [
    "#barplot(food$Fat.grams)\n",
    "#barplot(food$Carbohydrates.grams)\n",
    "\n",
    "rand.food <- food[sample(nrow(food)),]\n",
    "rand.food <- as.data.frame(sqrt(rand.food))\n",
    "rand.food <- as.data.frame(scale(rand.food))\n",
    "\n",
    "#barplot(rand.food$Fat.grams)\n",
    "#barplot(rand.food$Carbohydrates.grams)\n",
    "\n",
    "food.training <- rand.food[1:75,]\n",
    "food.testing <- rand.food[76:100,]\n"
   ]
  },
  {
   "cell_type": "code",
   "execution_count": 8,
   "metadata": {},
   "outputs": [],
   "source": [
    "# implement the neural network (food.model) with 10 hidden neurons here\n"
   ]
  },
  {
   "cell_type": "code",
   "execution_count": 9,
   "metadata": {},
   "outputs": [
    {
     "ename": "ERROR",
     "evalue": "Error in plot(food.model): object 'food.model' not found\n",
     "output_type": "error",
     "traceback": [
      "Error in plot(food.model): object 'food.model' not found\nTraceback:\n",
      "1. plot(food.model)"
     ]
    }
   ],
   "source": [
    "plot(food.model)\n",
    "\n",
    "food.predict <- predict(food.model, food.testing)\n",
    "cor(food.predict, food.testing$Food.energy.calories)\n",
    "rmse(food.predict, food.testing$Food.energy.calories)\n"
   ]
  },
  {
   "cell_type": "code",
   "execution_count": null,
   "metadata": {},
   "outputs": [],
   "source": [
    "# implement the neural network (food.model2) with 20 hidden neurons here\n"
   ]
  },
  {
   "cell_type": "code",
   "execution_count": null,
   "metadata": {},
   "outputs": [],
   "source": [
    "plot(food.model2)\n",
    "\n",
    "food.predict <- predict(food.model2, food.testing)\n",
    "cor(food.predict, food.testing$Food.energy.calories)\n",
    "rmse(food.predict, food.testing$Food.energy.calories)\n"
   ]
  },
  {
   "cell_type": "markdown",
   "metadata": {},
   "source": [
    "Finding:"
   ]
  },
  {
   "cell_type": "markdown",
   "metadata": {},
   "source": [
    "write down your finding here"
   ]
  },
  {
   "cell_type": "code",
   "execution_count": null,
   "metadata": {},
   "outputs": [],
   "source": []
  }
 ],
 "metadata": {
  "kernelspec": {
   "display_name": "R",
   "language": "R",
   "name": "ir"
  },
  "language_info": {
   "codemirror_mode": "r",
   "file_extension": ".r",
   "mimetype": "text/x-r-source",
   "name": "R",
   "pygments_lexer": "r",
   "version": "3.6.3"
  }
 },
 "nbformat": 4,
 "nbformat_minor": 4
}
