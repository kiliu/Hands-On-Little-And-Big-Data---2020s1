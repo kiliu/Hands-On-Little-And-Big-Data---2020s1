{
 "cells": [
  {
   "cell_type": "markdown",
   "metadata": {},
   "source": [
    "# Exercise 11"
   ]
  },
  {
   "cell_type": "markdown",
   "metadata": {},
   "source": [
    "Answer the following questions. Write your R codes in the cells provided. Submit this file to Moodle."
   ]
  },
  {
   "cell_type": "markdown",
   "metadata": {},
   "source": [
    "### Question 1 (50%)"
   ]
  },
  {
   "cell_type": "markdown",
   "metadata": {},
   "source": [
    "Consider the dataset <i>Cars93</i> in <i>MASS</i> package. Set the seed of random number generator to be 2000.\n",
    "\n",
    "Use k-means clustering to classify the cars into two clusters according to the variables: <b>Price</b>, <b>MPG.city</b>, <b>MPG.highway</b>, <b>EngineSize</b>, <b>Horsepower</b>, <b>RPM</b>, <b>Length</b>, <b>Width</b>, <b>Weight</b> (column 5, 7, 8, 12, 13, 14, 19, 21, 25 respectively). Report the cluster sizes. \n",
    "\n",
    "Compare the results with the variables <b>Origin</b> which indicates the origins of cars. Assume that cluster 1 represents “USA” origin and cluster 2 represents “non-USA” origin in your result of k-means clustering. Report the error rate. \n",
    "\n",
    "Do you think the cluster centres are representations of the origins of cars?\n",
    "\n"
   ]
  },
  {
   "cell_type": "markdown",
   "metadata": {},
   "source": [
    "### Answer:"
   ]
  },
  {
   "cell_type": "markdown",
   "metadata": {},
   "source": [
    "code:"
   ]
  },
  {
   "cell_type": "code",
   "execution_count": 11,
   "metadata": {},
   "outputs": [],
   "source": [
    "library(stats)\n",
    "set.seed(2000) \n",
    "data(Cars93, package=\"MASS\")"
   ]
  },
  {
   "cell_type": "code",
   "execution_count": 12,
   "metadata": {},
   "outputs": [],
   "source": [
    "cars.features <- Cars93[,c(5, 7, 8, 12, 13, 14, 19, 21, 25 )]"
   ]
  },
  {
   "cell_type": "code",
   "execution_count": 13,
   "metadata": {},
   "outputs": [],
   "source": [
    "# implement the k-mean clustering and assign the result to cars.clusters here"
   ]
  },
  {
   "cell_type": "code",
   "execution_count": 14,
   "metadata": {},
   "outputs": [],
   "source": [
    "# find the cluster sizes here"
   ]
  },
  {
   "cell_type": "code",
   "execution_count": 15,
   "metadata": {},
   "outputs": [
    {
     "ename": "ERROR",
     "evalue": "Error in table(cars.clusters$cluster, Cars93$Origin): object 'cars.clusters' not found\n",
     "output_type": "error",
     "traceback": [
      "Error in table(cars.clusters$cluster, Cars93$Origin): object 'cars.clusters' not found\nTraceback:\n",
      "1. table(cars.clusters$cluster, Cars93$Origin)"
     ]
    }
   ],
   "source": [
    "table(cars.clusters$cluster,Cars93$Origin)\n",
    "print(cars.clusters$centers)"
   ]
  },
  {
   "cell_type": "markdown",
   "metadata": {},
   "source": [
    "Finding:"
   ]
  },
  {
   "cell_type": "markdown",
   "metadata": {},
   "source": []
  },
  {
   "cell_type": "markdown",
   "metadata": {},
   "source": [
    "### Question 2 (50%)"
   ]
  },
  {
   "cell_type": "markdown",
   "metadata": {},
   "source": [
    "Carry out the market basket analysis to find out the association rules among the products in the file <i>store_data.csv</i>. \n",
    "\n",
    "Apply apriori algorithm to find some useful rules for frequent item set. Set the parameters support to be 0.008, confidence 0.30, and minlen 2.\n",
    "\n",
    "Sort the rules according to their importance indicated by lift. Show the first 8 rules. \n",
    "\n",
    "Do you find some rule(s) that you did not expect?\n"
   ]
  },
  {
   "cell_type": "markdown",
   "metadata": {},
   "source": [
    "### Answer:"
   ]
  },
  {
   "cell_type": "markdown",
   "metadata": {},
   "source": [
    "Code:"
   ]
  },
  {
   "cell_type": "code",
   "execution_count": 16,
   "metadata": {},
   "outputs": [
    {
     "name": "stderr",
     "output_type": "stream",
     "text": [
      "Loading required package: Matrix\n",
      "\n",
      "\n",
      "Attaching package: ‘arules’\n",
      "\n",
      "\n",
      "The following objects are masked from ‘package:base’:\n",
      "\n",
      "    abbreviate, write\n",
      "\n",
      "\n",
      "Warning message in asMethod(object):\n",
      "“removing duplicated items in transactions”\n"
     ]
    }
   ],
   "source": [
    "library(arules)\n",
    "\n",
    "# read the data to a sparse matrix\n",
    "store <- read.transactions(\"store_data.csv\", sep = \",\")"
   ]
  },
  {
   "cell_type": "code",
   "execution_count": 17,
   "metadata": {
    "scrolled": false
   },
   "outputs": [
    {
     "data": {
      "text/plain": [
       "transactions as itemMatrix in sparse format with\n",
       " 7501 rows (elements/itemsets/transactions) and\n",
       " 119 columns (items) and a density of 0.03288973 \n",
       "\n",
       "most frequent items:\n",
       "mineral water          eggs     spaghetti  french fries     chocolate \n",
       "         1788          1348          1306          1282          1229 \n",
       "      (Other) \n",
       "        22405 \n",
       "\n",
       "element (itemset/transaction) length distribution:\n",
       "sizes\n",
       "   1    2    3    4    5    6    7    8    9   10   11   12   13   14   15   16 \n",
       "1754 1358 1044  816  667  493  391  324  259  139  102   67   40   22   17    4 \n",
       "  18   19   20 \n",
       "   1    2    1 \n",
       "\n",
       "   Min. 1st Qu.  Median    Mean 3rd Qu.    Max. \n",
       "  1.000   2.000   3.000   3.914   5.000  20.000 \n",
       "\n",
       "includes extended item information - examples:\n",
       "             labels\n",
       "1           almonds\n",
       "2 antioxydant juice\n",
       "3         asparagus"
      ]
     },
     "metadata": {},
     "output_type": "display_data"
    },
    {
     "data": {
      "image/png": "[encoded data removed]",
      "text/plain": [
       "plot without title"
      ]
     },
     "metadata": {
      "image/png": {
       "height": 420,
       "width": 420
      },
      "text/plain": {
       "height": 420,
       "width": 420
      }
     },
     "output_type": "display_data"
    },
    {
     "data": {
      "image/png": "[encoded data removed]",
      "text/plain": [
       "plot without title"
      ]
     },
     "metadata": {
      "image/png": {
       "height": 420,
       "width": 420
      },
      "text/plain": {
       "height": 420,
       "width": 420
      }
     },
     "output_type": "display_data"
    }
   ],
   "source": [
    "summary(store)\n",
    "itemFrequencyPlot(store, topN = 20)\n",
    "image(sample(store, 100))"
   ]
  },
  {
   "cell_type": "code",
   "execution_count": 18,
   "metadata": {},
   "outputs": [],
   "source": [
    "# implement the apriori algorithm and assign the results to storerules here"
   ]
  },
  {
   "cell_type": "code",
   "execution_count": 19,
   "metadata": {},
   "outputs": [
    {
     "ename": "ERROR",
     "evalue": "Error in summary(storerules): object 'storerules' not found\n",
     "output_type": "error",
     "traceback": [
      "Error in summary(storerules): object 'storerules' not found\nTraceback:\n",
      "1. summary(storerules)"
     ]
    }
   ],
   "source": [
    "summary(storerules)\n",
    "inspect(sort(storerules, by = \"lift\")[1:8,])"
   ]
  },
  {
   "cell_type": "markdown",
   "metadata": {},
   "source": [
    "Finding:"
   ]
  },
  {
   "cell_type": "markdown",
   "metadata": {},
   "source": []
  },
  {
   "cell_type": "code",
   "execution_count": null,
   "metadata": {},
   "outputs": [],
   "source": []
  }
 ],
 "metadata": {
  "kernelspec": {
   "display_name": "R",
   "language": "R",
   "name": "ir"
  },
  "language_info": {
   "codemirror_mode": "r",
   "file_extension": ".r",
   "mimetype": "text/x-r-source",
   "name": "R",
   "pygments_lexer": "r",
   "version": "3.6.3"
  }
 },
 "nbformat": 4,
 "nbformat_minor": 4
}
