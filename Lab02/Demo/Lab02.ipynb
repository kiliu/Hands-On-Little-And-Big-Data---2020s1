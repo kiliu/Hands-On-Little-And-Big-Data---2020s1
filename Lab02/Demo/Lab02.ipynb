{
 "cells": [
  {
   "cell_type": "markdown",
   "metadata": {
    "slideshow": {
     "slide_type": "skip"
    }
   },
   "source": [
    "# Lab 02"
   ]
  },
  {
   "cell_type": "markdown",
   "metadata": {},
   "source": [
    "Read the dataset"
   ]
  },
  {
   "cell_type": "code",
   "execution_count": 1,
   "metadata": {},
   "outputs": [],
   "source": [
    "library(readxl)"
   ]
  },
  {
   "cell_type": "code",
   "execution_count": 2,
   "metadata": {},
   "outputs": [],
   "source": [
    "demoDataf <- as.data.frame(read_excel(\"../../Dataset/demoDataset.xlsx\"))"
   ]
  },
  {
   "cell_type": "markdown",
   "metadata": {},
   "source": [
    "Print the contents of the data frame"
   ]
  },
  {
   "cell_type": "code",
   "execution_count": 9,
   "metadata": {
    "scrolled": true
   },
   "outputs": [
    {
     "name": "stdout",
     "output_type": "stream",
     "text": [
      "   day month hko_max_temp hko_mean_temp hko_min_temp hko_wind_dir\n",
      "1    1     1         19.4          17.6         16.5           80\n",
      "2    2     1         16.6          14.4         12.2           30\n",
      "3    3     1         16.6          13.1          9.8           20\n",
      "4    4     1         19.1          16.7         14.8          100\n",
      "5    5     1         23.1          20.1         18.4           90\n",
      "6    6     2         18.0          16.4         15.5           90\n",
      "7    7     2         14.8          14.2         13.4           90\n",
      "8    8     2         18.8          15.9         14.1           20\n",
      "9    9     2         16.3          13.6         11.9           30\n",
      "10  10     3         24.3          20.5         17.2           90\n",
      "11  11     3         20.7          19.1         18.1           90\n",
      "12  12     3         24.3          21.6         20.0           80\n",
      "13  13     3         20.6          19.4         18.5           90\n",
      "14  14     3         19.9          17.3         15.1           90\n",
      "15  15     4         20.2          18.9         18.2           90\n",
      "16  16     4         20.7          19.3         18.2           90\n",
      "17  17     4         28.9          25.2         23.2          270\n",
      "18  18     5         26.1          23.9         23.3           90\n",
      "19  19     5         27.8          25.3         22.4          180\n",
      "20  20     5         28.1          25.2         23.4           90\n",
      "21  21     5         28.1          25.4         22.5           90\n",
      "22  22     6         30.2          27.4         25.6           90\n",
      "23  23     6         25.4          24.1         22.7           90\n",
      "24  24     6         29.5          27.8         25.0          220\n",
      "25  25     6         32.1          29.3         27.3          220\n",
      "26  26     7         30.1          27.6         25.3          190\n",
      "27  27     7         31.3          28.1         25.5          100\n",
      "28  28     7         27.7          25.3         23.5          210\n",
      "29  29     8         32.1          29.7         28.0          270\n",
      "30  30     8         32.2          29.1         27.0          100\n",
      "31  31     8         30.7          28.6         26.4           30\n",
      "32  32     8         32.3          29.1         26.2          280\n",
      "33  33     8         33.7          31.6         29.8          290\n",
      "34  34     9         33.4          30.6         25.5          280\n",
      "35  35     9         31.2          28.2         26.5          130\n",
      "36  36     9         31.4          29.0         27.4          120\n",
      "37  37     9         33.5          29.7         27.1           10\n",
      "38  38     9         30.5          27.2         25.1          100\n",
      "39  39    10         31.2          28.1         26.1          100\n",
      "40  40    10         27.6          25.6         23.5          100\n",
      "41  41    10         26.6          24.2         22.2           10\n",
      "42  42    10         26.0          23.2         20.8          100\n",
      "43  43    11         25.2          23.0         21.9          110\n",
      "44  44    11         19.7          16.8         13.9           40\n",
      "45  45    11         26.0          22.9         21.3          100\n",
      "46  46    11         24.4          21.4         18.6           40\n",
      "47  47    12         21.5          19.5         18.3          100\n",
      "48  48    12         21.8          20.3         19.2          100\n",
      "49  49    12         21.6          18.6         16.3          100\n",
      "50  50    12         18.1          16.8         15.7          100\n",
      "   hko_wind_cardinal_dir hko_wind_speed hko_wind_gust wgl_max_temp\n",
      "1                      2            3.7          10.0         17.6\n",
      "2                      1            1.9           6.5         17.4\n",
      "3                      1            1.5           7.0         17.0\n",
      "4                      2            2.7           7.5         19.3\n",
      "5                      2            2.3           6.5         24.0\n",
      "6                      2            4.0          10.0         16.1\n",
      "7                      2            3.7          14.5         14.3\n",
      "8                      1            1.5           7.5         17.8\n",
      "9                      1            2.3           8.5         16.0\n",
      "10                     2            2.9          12.0         20.6\n",
      "11                     2            3.5           8.0         18.1\n",
      "12                     2            2.3           7.5         22.5\n",
      "13                     2            4.2          10.0         18.9\n",
      "14                     2            4.4          12.0         18.7\n",
      "15                     2            3.5          14.0         19.0\n",
      "16                     2            1.5           6.0         20.5\n",
      "17                     4            1.9          10.0         28.5\n",
      "18                     2            4.6          12.0         25.0\n",
      "19                     3            2.5          12.0         26.2\n",
      "20                     2            4.0          12.5         27.3\n",
      "21                     2            1.5          16.0         29.5\n",
      "22                     2            2.5           6.5         31.5\n",
      "23                     2            2.5           8.0         25.5\n",
      "24                     3            3.0          12.0         31.1\n",
      "25                     3            2.6           8.5         32.1\n",
      "26                     3            2.7           9.0         30.7\n",
      "27                     2            5.2          15.5         31.5\n",
      "28                     3            5.8          25.5         27.8\n",
      "29                     4            3.2           8.5         31.6\n",
      "30                     2            3.3           8.5         37.0\n",
      "31                     1            3.5           9.5         32.3\n",
      "32                     4            3.2          12.0         34.3\n",
      "33                     4            4.5          12.5         33.9\n",
      "34                     4            4.0          13.0         32.7\n",
      "35                     2            2.8          13.5         33.5\n",
      "36                     2            3.1           8.5         36.6\n",
      "37                     1            3.3          12.0         33.9\n",
      "38                     2            4.0          10.0         31.4\n",
      "39                     2            2.4           6.5         34.3\n",
      "40                     2            3.3          11.5         29.3\n",
      "41                     1            2.3           7.5         27.8\n",
      "42                     2            4.7          11.5         26.8\n",
      "43                     2            4.2          10.0         26.2\n",
      "44                     1            3.2           9.0         19.9\n",
      "45                     2            2.6           7.0         27.4\n",
      "46                     1            2.4          12.0         24.9\n",
      "47                     2            4.8          12.0         21.5\n",
      "48                     2            5.1          11.5         22.0\n",
      "49                     2            3.4           9.0         22.6\n",
      "50                     2            6.6          18.0         18.3\n",
      "   wgl_mean_temp wgl_min_temp wgl_wind_dir wgl_wind_cardinal_dir wgl_wind_speed\n",
      "1           16.5         15.8           70                     2            7.2\n",
      "2           13.4         11.3           10                     1            7.6\n",
      "3           12.7         10.2           10                     1            4.8\n",
      "4           16.1         14.5           60                     2            5.3\n",
      "5           19.2         16.7           50                     2            3.7\n",
      "6           15.0         14.4           70                     2            8.4\n",
      "7           13.6         12.9           80                     2           10.5\n",
      "8           15.2         13.6           20                     1            6.0\n",
      "9           12.9         11.2           20                     1            7.9\n",
      "10          18.1         15.8           60                     2            4.5\n",
      "11          16.7         16.2           60                     2            7.8\n",
      "12          19.6         17.2           60                     2            3.0\n",
      "13          17.7         17.2           40                     1            5.8\n",
      "14          16.7         14.2           60                     2            8.6\n",
      "15          18.3         17.7           70                     2            6.9\n",
      "16          18.2         17.4           40                     1            3.9\n",
      "17          24.2         22.5          220                     3            6.6\n",
      "18          23.3         22.6           90                     2           11.9\n",
      "19          24.0         22.1          170                     3            5.8\n",
      "20          25.2         23.7           90                     2            8.1\n",
      "21          25.6         24.2           80                     2            2.4\n",
      "22          27.7         25.1           80                     2            2.9\n",
      "23          24.1         23.2           90                     2            6.5\n",
      "24          27.9         25.5          220                     3            5.6\n",
      "25          29.5         27.5          210                     3            6.3\n",
      "26          27.7         25.8          150                     3            4.0\n",
      "27          28.6         25.8          130                     2            6.0\n",
      "28          25.9         24.3          220                     3           13.9\n",
      "29          29.8         28.7          250                     4            7.2\n",
      "30          30.7         27.4          140                     3            2.4\n",
      "31          29.4         27.4           20                     1            7.3\n",
      "32          31.2         26.6          290                     4            4.4\n",
      "33          32.0         30.6          310                     4            8.1\n",
      "34          30.6         24.8          290                     4            7.5\n",
      "35          28.8         27.3          150                     3            3.5\n",
      "36          30.5         28.0          140                     3            2.3\n",
      "37          30.0         27.3           20                     1            5.5\n",
      "38          27.7         25.9          100                     2            6.3\n",
      "39          29.2         26.6          110                     2            2.9\n",
      "40          26.1         23.8          100                     2            7.8\n",
      "41          24.3         21.5           20                     1            6.3\n",
      "42          23.8         21.6           90                     2           10.4\n",
      "43          23.2         21.7          100                     2            6.2\n",
      "44          17.8         15.0           90                     2            7.8\n",
      "45          23.2         21.0           60                     2            4.7\n",
      "46          21.6         18.9           30                     1            6.8\n",
      "47          19.7         18.8           90                     2           11.8\n",
      "48          20.1         19.4           90                     2            9.4\n",
      "49          19.6         17.5           80                     2            6.6\n",
      "50          17.1         16.1           90                     2           14.4\n",
      "   wgl_wind_gust\n",
      "1           13.5\n",
      "2           13.6\n",
      "3           10.8\n",
      "4            9.6\n",
      "5            8.6\n",
      "6           13.8\n",
      "7           19.1\n",
      "8           13.3\n",
      "9           14.7\n",
      "10          13.5\n",
      "11          11.6\n",
      "12           8.6\n",
      "13          10.9\n",
      "14          15.1\n",
      "15          18.8\n",
      "16           9.2\n",
      "17          13.5\n",
      "18          18.3\n",
      "19          16.1\n",
      "20          13.5\n",
      "21           9.8\n",
      "22           8.2\n",
      "23          13.7\n",
      "24          12.2\n",
      "25          10.1\n",
      "26          15.4\n",
      "27          21.0\n",
      "28          37.3\n",
      "29          12.5\n",
      "30           8.4\n",
      "31          14.6\n",
      "32          19.4\n",
      "33          18.6\n",
      "34          23.3\n",
      "35          12.0\n",
      "36           8.0\n",
      "37          13.4\n",
      "38          13.5\n",
      "39           8.1\n",
      "40          16.3\n",
      "41          11.9\n",
      "42          16.9\n",
      "43          12.0\n",
      "44          12.9\n",
      "45          10.8\n",
      "46          12.9\n",
      "47          19.5\n",
      "48          14.6\n",
      "49          11.3\n",
      "50          22.0\n"
     ]
    }
   ],
   "source": [
    "print(demoDataf)"
   ]
  },
  {
   "cell_type": "markdown",
   "metadata": {},
   "source": [
    "### Question 1"
   ]
  },
  {
   "cell_type": "markdown",
   "metadata": {},
   "source": [
    "What is the mean of the wind speed of HKO?\n"
   ]
  },
  {
   "cell_type": "markdown",
   "metadata": {},
   "source": [
    "### Answer:"
   ]
  },
  {
   "cell_type": "code",
   "execution_count": 3,
   "metadata": {},
   "outputs": [
    {
     "data": {
      "text/html": [
       "3.292"
      ],
      "text/latex": [
       "3.292"
      ],
      "text/markdown": [
       "3.292"
      ],
      "text/plain": [
       "[1] 3.292"
      ]
     },
     "metadata": {},
     "output_type": "display_data"
    }
   ],
   "source": [
    "mean(demoDataf$hko_wind_speed)"
   ]
  },
  {
   "cell_type": "markdown",
   "metadata": {},
   "source": [
    "Mean = 3.292"
   ]
  },
  {
   "cell_type": "markdown",
   "metadata": {},
   "source": [
    "### Question 2"
   ]
  },
  {
   "cell_type": "markdown",
   "metadata": {},
   "source": [
    "What is the median of the wind gust of HKO?"
   ]
  },
  {
   "cell_type": "markdown",
   "metadata": {},
   "source": [
    "### Answer:"
   ]
  },
  {
   "cell_type": "code",
   "execution_count": 4,
   "metadata": {},
   "outputs": [
    {
     "data": {
      "text/html": [
       "10"
      ],
      "text/latex": [
       "10"
      ],
      "text/markdown": [
       "10"
      ],
      "text/plain": [
       "[1] 10"
      ]
     },
     "metadata": {},
     "output_type": "display_data"
    }
   ],
   "source": [
    "median(demoDataf$hko_wind_gust)"
   ]
  },
  {
   "cell_type": "markdown",
   "metadata": {},
   "source": [
    "Median = 10.000"
   ]
  },
  {
   "cell_type": "markdown",
   "metadata": {},
   "source": [
    "### Question 3"
   ]
  },
  {
   "cell_type": "markdown",
   "metadata": {},
   "source": [
    "What are the mode and the corresponding frequency of the wind cardinal direc-\n",
    "tions of HKO?"
   ]
  },
  {
   "cell_type": "markdown",
   "metadata": {},
   "source": [
    "### Answer:"
   ]
  },
  {
   "cell_type": "code",
   "execution_count": 5,
   "metadata": {},
   "outputs": [
    {
     "data": {
      "text/html": [
       "31"
      ],
      "text/latex": [
       "31"
      ],
      "text/markdown": [
       "31"
      ],
      "text/plain": [
       "[1] 31"
      ]
     },
     "metadata": {},
     "output_type": "display_data"
    },
    {
     "data": {
      "text/html": [
       "'2'"
      ],
      "text/latex": [
       "'2'"
      ],
      "text/markdown": [
       "'2'"
      ],
      "text/plain": [
       "[1] \"2\""
      ]
     },
     "metadata": {},
     "output_type": "display_data"
    }
   ],
   "source": [
    "tab<-table(demoDataf$hko_wind_cardinal_dir)\n",
    "max(tab)\n",
    "names(which.max(tab))"
   ]
  },
  {
   "cell_type": "markdown",
   "metadata": {},
   "source": [
    "Mode = east (2), freq = 31"
   ]
  },
  {
   "cell_type": "markdown",
   "metadata": {},
   "source": [
    "### Question 4"
   ]
  },
  {
   "cell_type": "markdown",
   "metadata": {},
   "source": [
    "Find the frequency table of the wind cardinal directions of HKO."
   ]
  },
  {
   "cell_type": "markdown",
   "metadata": {},
   "source": [
    "### Answer:"
   ]
  },
  {
   "cell_type": "code",
   "execution_count": 6,
   "metadata": {},
   "outputs": [
    {
     "data": {
      "text/html": [
       "<table>\n",
       "<caption>A freqtable: 5 × 2 of type dbl</caption>\n",
       "<thead>\n",
       "\t<tr><th></th><th scope=col>Frequency</th><th scope=col>Percent</th></tr>\n",
       "</thead>\n",
       "<tbody>\n",
       "\t<tr><th scope=row>1</th><td> 9</td><td> 18</td></tr>\n",
       "\t<tr><th scope=row>2</th><td>31</td><td> 62</td></tr>\n",
       "\t<tr><th scope=row>3</th><td> 5</td><td> 10</td></tr>\n",
       "\t<tr><th scope=row>4</th><td> 5</td><td> 10</td></tr>\n",
       "\t<tr><th scope=row>Total</th><td>50</td><td>100</td></tr>\n",
       "</tbody>\n",
       "</table>\n"
      ],
      "text/latex": [
       "A freqtable: 5 × 2 of type dbl\n",
       "\\begin{tabular}{r|ll}\n",
       "  & Frequency & Percent\\\\\n",
       "\\hline\n",
       "\t1 &  9 &  18\\\\\n",
       "\t2 & 31 &  62\\\\\n",
       "\t3 &  5 &  10\\\\\n",
       "\t4 &  5 &  10\\\\\n",
       "\tTotal & 50 & 100\\\\\n",
       "\\end{tabular}\n"
      ],
      "text/markdown": [
       "\n",
       "A freqtable: 5 × 2 of type dbl\n",
       "\n",
       "| <!--/--> | Frequency | Percent |\n",
       "|---|---|---|\n",
       "| 1 |  9 |  18 |\n",
       "| 2 | 31 |  62 |\n",
       "| 3 |  5 |  10 |\n",
       "| 4 |  5 |  10 |\n",
       "| Total | 50 | 100 |\n",
       "\n"
      ],
      "text/plain": [
       "      Frequency Percent\n",
       "1      9         18    \n",
       "2     31         62    \n",
       "3      5         10    \n",
       "4      5         10    \n",
       "Total 50        100    "
      ]
     },
     "metadata": {},
     "output_type": "display_data"
    }
   ],
   "source": [
    "library(descr)\n",
    "freq(demoDataf$hko_wind_cardinal_dir,plot=FALSE)"
   ]
  },
  {
   "cell_type": "markdown",
   "metadata": {},
   "source": [
    "### Question 5"
   ]
  },
  {
   "cell_type": "markdown",
   "metadata": {},
   "source": [
    "Draw a bar chart for the wind cardinal directions of HKO."
   ]
  },
  {
   "cell_type": "markdown",
   "metadata": {},
   "source": [
    "### Answer:"
   ]
  },
  {
   "cell_type": "code",
   "execution_count": 7,
   "metadata": {},
   "outputs": [
    {
     "data": {
      "image/png": "[encoded data removed]",
      "text/plain": [
       "Plot with title “Barplot of the wind cardinaldirections of HKO”"
      ]
     },
     "metadata": {
      "image/png": {
       "height": 420,
       "width": 420
      }
     },
     "output_type": "display_data"
    }
   ],
   "source": [
    "tab<-table(demoDataf$hko_wind_cardinal_dir)\n",
    "lbls<-c(\"N\",\"E\",\"S\",\"W\")\n",
    "barplot(tab,names.arg=lbls,main=\"Barplot of the wind cardinaldirections of HKO\")"
   ]
  },
  {
   "cell_type": "markdown",
   "metadata": {},
   "source": [
    "### Question 6"
   ]
  },
  {
   "cell_type": "markdown",
   "metadata": {},
   "source": [
    "Draw a pie chart for the wind cardinal directions of HKO."
   ]
  },
  {
   "cell_type": "markdown",
   "metadata": {},
   "source": [
    "### Answer:"
   ]
  },
  {
   "cell_type": "code",
   "execution_count": 8,
   "metadata": {},
   "outputs": [
    {
     "data": {
      "image/png": "[encoded data removed]",
      "text/plain": [
       "Plot with title “Pie Chart of the wind cardinal directions of HKO”"
      ]
     },
     "metadata": {
      "image/png": {
       "height": 420,
       "width": 420
      }
     },
     "output_type": "display_data"
    }
   ],
   "source": [
    "tab<-table(demoDataf$hko_wind_cardinal_dir)\n",
    "lbls<-c(\"N\",\"E\",\"S\",\"W\")\n",
    "pie(tab,labels=lbls,main=\"Pie Chart of the wind cardinal directions of HKO\")"
   ]
  },
  {
   "cell_type": "code",
   "execution_count": null,
   "metadata": {},
   "outputs": [],
   "source": []
  }
 ],
 "metadata": {
  "kernelspec": {
   "display_name": "R",
   "language": "R",
   "name": "ir"
  },
  "language_info": {
   "codemirror_mode": "r",
   "file_extension": ".r",
   "mimetype": "text/x-r-source",
   "name": "R",
   "pygments_lexer": "r",
   "version": "3.6.1"
  },
  "widgets": {
   "application/vnd.jupyter.widget-state+json": {
    "state": {},
    "version_major": 2,
    "version_minor": 0
   }
  }
 },
 "nbformat": 4,
 "nbformat_minor": 4
}
