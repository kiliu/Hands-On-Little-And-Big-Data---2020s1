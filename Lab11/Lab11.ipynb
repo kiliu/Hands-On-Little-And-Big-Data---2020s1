{
 "cells": [
  {
   "cell_type": "markdown",
   "metadata": {},
   "source": [
    "# Lab 11"
   ]
  },
  {
   "cell_type": "markdown",
   "metadata": {},
   "source": [
    "### Question 1"
   ]
  },
  {
   "cell_type": "markdown",
   "metadata": {},
   "source": [
    "Apply k nearest neighbour algorithm to predict breast cancer types based on the dataset <i>wisc_bc_data.csv</i>. Set the seed of the random number generator to be 1048. Carry out the necessary data transformation. Use the first 469 rows in the dataset as the training set and the remaining rows as testing set. Try different values of $k$ and report the error rates of the prediction by testing set."
   ]
  },
  {
   "cell_type": "markdown",
   "metadata": {},
   "source": [
    "### Answer:"
   ]
  },
  {
   "cell_type": "markdown",
   "metadata": {},
   "source": [
    "Load the library for k nearest neighhour algorithm"
   ]
  },
  {
   "cell_type": "code",
   "execution_count": 1,
   "metadata": {},
   "outputs": [],
   "source": [
    "library(class)"
   ]
  },
  {
   "cell_type": "markdown",
   "metadata": {},
   "source": [
    "Set seed so that the result is repeatable"
   ]
  },
  {
   "cell_type": "code",
   "execution_count": 2,
   "metadata": {},
   "outputs": [],
   "source": [
    "set.seed(1048) "
   ]
  },
  {
   "cell_type": "markdown",
   "metadata": {},
   "source": [
    "Read dataset from CSV file. <i>Breast Cancer Wisconsin Diagnostic</i> dataset from the \n",
    "UCI Machine Learning Repository, which is available at http://archive.ics.uci.edu/ml"
   ]
  },
  {
   "cell_type": "code",
   "execution_count": 3,
   "metadata": {},
   "outputs": [],
   "source": [
    "wbcd <- read.csv(\"wisc_bc_data.csv\", stringsAsFactors = FALSE)"
   ]
  },
  {
   "cell_type": "markdown",
   "metadata": {},
   "source": [
    "Randomly reorder the dataset"
   ]
  },
  {
   "cell_type": "code",
   "execution_count": 4,
   "metadata": {},
   "outputs": [],
   "source": [
    "wbcd <- wbcd[sample(nrow(wbcd)), ]"
   ]
  },
  {
   "cell_type": "markdown",
   "metadata": {},
   "source": [
    "Extract the feature variables: \\#3 to \\#32"
   ]
  },
  {
   "cell_type": "code",
   "execution_count": 5,
   "metadata": {},
   "outputs": [],
   "source": [
    "wbcd_feature <- wbcd[ ,3:32]"
   ]
  },
  {
   "cell_type": "markdown",
   "metadata": {},
   "source": [
    "Extract the diagnosis variable: \\#2"
   ]
  },
  {
   "cell_type": "code",
   "execution_count": 6,
   "metadata": {},
   "outputs": [],
   "source": [
    "wbcd_diagnosis <- wbcd[ ,2] "
   ]
  },
  {
   "cell_type": "markdown",
   "metadata": {},
   "source": [
    "The diagnosis is coded as <b>M</b> to indicate malignant or <b>B</b> to indicate benign."
   ]
  },
  {
   "cell_type": "code",
   "execution_count": 7,
   "metadata": {},
   "outputs": [
    {
     "data": {
      "text/plain": [
       "wbcd_diagnosis\n",
       "  B   M \n",
       "357 212 "
      ]
     },
     "metadata": {},
     "output_type": "display_data"
    }
   ],
   "source": [
    "table(wbcd_diagnosis)"
   ]
  },
  {
   "cell_type": "markdown",
   "metadata": {},
   "source": [
    "Take a closer look at the first three features"
   ]
  },
  {
   "cell_type": "code",
   "execution_count": 8,
   "metadata": {},
   "outputs": [
    {
     "data": {
      "text/plain": [
       "  radius_mean      texture_mean   perimeter_mean  \n",
       " Min.   : 6.981   Min.   : 9.71   Min.   : 43.79  \n",
       " 1st Qu.:11.700   1st Qu.:16.17   1st Qu.: 75.17  \n",
       " Median :13.370   Median :18.84   Median : 86.24  \n",
       " Mean   :14.127   Mean   :19.29   Mean   : 91.97  \n",
       " 3rd Qu.:15.780   3rd Qu.:21.80   3rd Qu.:104.10  \n",
       " Max.   :28.110   Max.   :39.28   Max.   :188.50  "
      ]
     },
     "metadata": {},
     "output_type": "display_data"
    }
   ],
   "source": [
    "summary(wbcd_feature[,1:3])"
   ]
  },
  {
   "cell_type": "markdown",
   "metadata": {},
   "source": [
    "Normalise the values of features"
   ]
  },
  {
   "cell_type": "code",
   "execution_count": 9,
   "metadata": {},
   "outputs": [],
   "source": [
    "wbcd_feature_z <- as.data.frame(scale(wbcd_feature))"
   ]
  },
  {
   "cell_type": "markdown",
   "metadata": {},
   "source": [
    "Check again"
   ]
  },
  {
   "cell_type": "code",
   "execution_count": 10,
   "metadata": {},
   "outputs": [
    {
     "data": {
      "text/plain": [
       "  radius_mean       texture_mean     perimeter_mean   \n",
       " Min.   :-2.0279   Min.   :-2.2273   Min.   :-1.9828  \n",
       " 1st Qu.:-0.6888   1st Qu.:-0.7253   1st Qu.:-0.6913  \n",
       " Median :-0.2149   Median :-0.1045   Median :-0.2358  \n",
       " Mean   : 0.0000   Mean   : 0.0000   Mean   : 0.0000  \n",
       " 3rd Qu.: 0.4690   3rd Qu.: 0.5837   3rd Qu.: 0.4992  \n",
       " Max.   : 3.9678   Max.   : 4.6478   Max.   : 3.9726  "
      ]
     },
     "metadata": {},
     "output_type": "display_data"
    }
   ],
   "source": [
    "summary(wbcd_feature_z[,1:3])"
   ]
  },
  {
   "cell_type": "markdown",
   "metadata": {},
   "source": [
    "Set up the inputs of training data"
   ]
  },
  {
   "cell_type": "code",
   "execution_count": 11,
   "metadata": {},
   "outputs": [],
   "source": [
    "train_input <- wbcd_feature_z[1:469, ]"
   ]
  },
  {
   "cell_type": "markdown",
   "metadata": {},
   "source": [
    "Set up the outputs of training data"
   ]
  },
  {
   "cell_type": "code",
   "execution_count": 12,
   "metadata": {},
   "outputs": [],
   "source": [
    "train_output <- wbcd_diagnosis[1:469]"
   ]
  },
  {
   "cell_type": "markdown",
   "metadata": {},
   "source": [
    "Set up the inputs of testing data"
   ]
  },
  {
   "cell_type": "code",
   "execution_count": 13,
   "metadata": {},
   "outputs": [],
   "source": [
    "test_input <- wbcd_feature_z[470:569, ]"
   ]
  },
  {
   "cell_type": "markdown",
   "metadata": {},
   "source": [
    "Set up the outputs of testing data"
   ]
  },
  {
   "cell_type": "code",
   "execution_count": 14,
   "metadata": {},
   "outputs": [],
   "source": [
    "test_output <- wbcd_diagnosis[470:569]"
   ]
  },
  {
   "cell_type": "markdown",
   "metadata": {},
   "source": [
    "Train knn with k = 21 (arbitrarily selected)"
   ]
  },
  {
   "cell_type": "code",
   "execution_count": 15,
   "metadata": {},
   "outputs": [],
   "source": [
    "test_pred <- knn(train = train_input, test = test_input,\n",
    "                      cl = train_output, k=21)"
   ]
  },
  {
   "cell_type": "markdown",
   "metadata": {},
   "source": [
    "Evaluate the performance"
   ]
  },
  {
   "cell_type": "code",
   "execution_count": 16,
   "metadata": {},
   "outputs": [
    {
     "data": {
      "text/plain": [
       "           test_pred\n",
       "test_output  B  M\n",
       "          B 56  0\n",
       "          M  4 40"
      ]
     },
     "metadata": {},
     "output_type": "display_data"
    }
   ],
   "source": [
    "table(test_output, test_pred)"
   ]
  },
  {
   "cell_type": "markdown",
   "metadata": {},
   "source": [
    "Try different values of k"
   ]
  },
  {
   "cell_type": "code",
   "execution_count": 17,
   "metadata": {},
   "outputs": [
    {
     "name": "stdout",
     "output_type": "stream",
     "text": [
      "[1] 1\n",
      "           test_pred\n",
      "test_output  B  M\n",
      "          B 54  2\n",
      "          M  3 41\n",
      "[1] 5\n",
      "           test_pred\n",
      "test_output  B  M\n",
      "          B 56  0\n",
      "          M  4 40\n",
      "[1] 11\n",
      "           test_pred\n",
      "test_output  B  M\n",
      "          B 56  0\n",
      "          M  4 40\n",
      "[1] 15\n",
      "           test_pred\n",
      "test_output  B  M\n",
      "          B 56  0\n",
      "          M  4 40\n",
      "[1] 21\n",
      "           test_pred\n",
      "test_output  B  M\n",
      "          B 56  0\n",
      "          M  4 40\n",
      "[1] 30\n",
      "           test_pred\n",
      "test_output  B  M\n",
      "          B 56  0\n",
      "          M  5 39\n"
     ]
    }
   ],
   "source": [
    "for (i in c(1,5,11,15,21,30)) {\n",
    "  print(i)\n",
    "  test_pred <- knn(train = train_input, test = test_input,\n",
    "                   cl = train_output, k=i)\n",
    "  \n",
    "  print(table(test_output, test_pred))\n",
    "}"
   ]
  },
  {
   "cell_type": "markdown",
   "metadata": {},
   "source": [
    "### Question 2"
   ]
  },
  {
   "cell_type": "markdown",
   "metadata": {},
   "source": [
    "Train a feedforward neural network with one hidden layer for the prediction of concrete strength based on the dataset <i>concrete.csv</i>. Set the seed of the random number generator to be 1048. Carry out the necessary data transformation. Use the first 773 rows in the dataset as the training set and the remaining rows as testing set. Try different number of neurons in the hidden layer. Report the correlations between the predicted values and the values in testing set. Also report the root mean square errors (RMSE)."
   ]
  },
  {
   "cell_type": "markdown",
   "metadata": {},
   "source": [
    "### Answer:"
   ]
  },
  {
   "cell_type": "markdown",
   "metadata": {},
   "source": [
    "Load the library for Neural Networks"
   ]
  },
  {
   "cell_type": "code",
   "execution_count": 18,
   "metadata": {},
   "outputs": [],
   "source": [
    "library(neuralnet)"
   ]
  },
  {
   "cell_type": "markdown",
   "metadata": {},
   "source": [
    "Set seed so that the result is repeatable"
   ]
  },
  {
   "cell_type": "code",
   "execution_count": 19,
   "metadata": {},
   "outputs": [],
   "source": [
    "set.seed(1024)"
   ]
  },
  {
   "cell_type": "markdown",
   "metadata": {},
   "source": [
    "Read dataset and randomise the row order"
   ]
  },
  {
   "cell_type": "code",
   "execution_count": 20,
   "metadata": {},
   "outputs": [],
   "source": [
    "concrete <- read.csv(\"concrete.csv\")\n",
    "concrete <- concrete[sample(nrow(concrete)), ]"
   ]
  },
  {
   "cell_type": "markdown",
   "metadata": {},
   "source": [
    "Show the structure and the summary of the <b>strength</b>"
   ]
  },
  {
   "cell_type": "code",
   "execution_count": 21,
   "metadata": {},
   "outputs": [
    {
     "name": "stdout",
     "output_type": "stream",
     "text": [
      "'data.frame':\t1030 obs. of  9 variables:\n",
      " $ cement      : num  277 516 174 250 232 ...\n",
      " $ slag        : num  0 0 93.4 0 0 ...\n",
      " $ ash         : num  97.4 0 159.9 95.7 121.6 ...\n",
      " $ water       : num  161 162 172 192 174 ...\n",
      " $ superplastic: num  11.8 8.3 9.7 5.3 6.7 3.9 11.6 0 0 7.8 ...\n",
      " $ coarseagg   : num  974 801 1007 949 1056 ...\n",
      " $ fineagg     : num  876 802 747 857 778 ...\n",
      " $ age         : int  100 28 28 14 28 3 7 3 7 28 ...\n",
      " $ strength    : num  55.6 41.4 37.8 24.7 33.7 ...\n"
     ]
    },
    {
     "data": {
      "text/plain": [
       "   Min. 1st Qu.  Median    Mean 3rd Qu.    Max. \n",
       "   2.33   23.71   34.45   35.82   46.13   82.60 "
      ]
     },
     "metadata": {},
     "output_type": "display_data"
    }
   ],
   "source": [
    "str(concrete)\n",
    "summary(concrete$strength)"
   ]
  },
  {
   "cell_type": "markdown",
   "metadata": {},
   "source": [
    "Standardise the scales of the variables"
   ]
  },
  {
   "cell_type": "code",
   "execution_count": 22,
   "metadata": {},
   "outputs": [],
   "source": [
    "concrete_z <- as.data.frame(scale(concrete))"
   ]
  },
  {
   "cell_type": "markdown",
   "metadata": {},
   "source": [
    "Show the summary of the standised <b>strength</b>"
   ]
  },
  {
   "cell_type": "code",
   "execution_count": 23,
   "metadata": {},
   "outputs": [
    {
     "data": {
      "text/plain": [
       "    Min.  1st Qu.   Median     Mean  3rd Qu.     Max. \n",
       "-2.00458 -0.72478 -0.08218  0.00000  0.61757  2.80036 "
      ]
     },
     "metadata": {},
     "output_type": "display_data"
    }
   ],
   "source": [
    "summary(concrete_z$strength)"
   ]
  },
  {
   "cell_type": "markdown",
   "metadata": {},
   "source": [
    "Define training set and testing set"
   ]
  },
  {
   "cell_type": "code",
   "execution_count": 24,
   "metadata": {},
   "outputs": [],
   "source": [
    "train_set <- concrete_z[1:773, ]\n",
    "test_input <- concrete_z[774:1030, 1:8]\n",
    "test_output <- concrete_z[774:1030, 9]"
   ]
  },
  {
   "cell_type": "markdown",
   "metadata": {},
   "source": [
    "Train the multilayer feedforward network with a single hidden node"
   ]
  },
  {
   "cell_type": "code",
   "execution_count": 25,
   "metadata": {},
   "outputs": [],
   "source": [
    "concrete_model <- neuralnet(strength ~ cement + slag + ash + water \n",
    "                            + superplastic + coarseagg + fineagg + age,\n",
    "                            data = train_set, hidden = 1, stepmax=1e7)"
   ]
  },
  {
   "cell_type": "markdown",
   "metadata": {},
   "source": [
    "Plot the structure of network"
   ]
  },
  {
   "cell_type": "code",
   "execution_count": 26,
   "metadata": {
    "scrolled": false
   },
   "outputs": [
    {
     "name": "stdout",
     "output_type": "stream",
     "text": [
      "[[1]]\n",
      "[[1]][[1]]\n",
      "             [,1]\n",
      " [1,] -1.15765106\n",
      " [2,] -1.04310647\n",
      " [3,] -0.61996147\n",
      " [4,] -0.28046362\n",
      " [5,]  0.27338561\n",
      " [6,] -0.25237164\n",
      " [7,] -0.04548266\n",
      " [8,] -0.04756560\n",
      " [9,] -2.27062936\n",
      "\n",
      "[[1]][[2]]\n",
      "          [,1]\n",
      "[1,]  1.174773\n",
      "[2,] -3.177433\n",
      "\n",
      "\n"
     ]
    }
   ],
   "source": [
    "print(concrete_model$weight)"
   ]
  },
  {
   "cell_type": "markdown",
   "metadata": {},
   "source": [
    "Test the network"
   ]
  },
  {
   "cell_type": "code",
   "execution_count": 27,
   "metadata": {},
   "outputs": [],
   "source": [
    "predicted_strength <- predict(concrete_model, test_input)"
   ]
  },
  {
   "cell_type": "markdown",
   "metadata": {},
   "source": [
    "Find the correlation between predicted values and actual values"
   ]
  },
  {
   "cell_type": "code",
   "execution_count": 28,
   "metadata": {},
   "outputs": [
    {
     "data": {
      "text/html": [
       "<table>\n",
       "<caption>A matrix: 1 × 1 of type dbl</caption>\n",
       "<tbody>\n",
       "\t<tr><td>0.8405461</td></tr>\n",
       "</tbody>\n",
       "</table>\n"
      ],
      "text/latex": [
       "A matrix: 1 × 1 of type dbl\n",
       "\\begin{tabular}{l}\n",
       "\t 0.8405461\\\\\n",
       "\\end{tabular}\n"
      ],
      "text/markdown": [
       "\n",
       "A matrix: 1 × 1 of type dbl\n",
       "\n",
       "| 0.8405461 |\n",
       "\n"
      ],
      "text/plain": [
       "     [,1]     \n",
       "[1,] 0.8405461"
      ]
     },
     "metadata": {},
     "output_type": "display_data"
    },
    {
     "data": {
      "image/png": "[encoded data removed]",
      "text/plain": [
       "plot without title"
      ]
     },
     "metadata": {
      "image/png": {
       "height": 420,
       "width": 420
      },
      "text/plain": {
       "height": 420,
       "width": 420
      }
     },
     "output_type": "display_data"
    }
   ],
   "source": [
    "cor(predicted_strength, test_output)\n",
    "plot(predicted_strength, test_output)"
   ]
  },
  {
   "cell_type": "markdown",
   "metadata": {},
   "source": [
    "Find the root mean squared error"
   ]
  },
  {
   "cell_type": "code",
   "execution_count": 29,
   "metadata": {},
   "outputs": [
    {
     "data": {
      "text/html": [
       "0.572608502996735"
      ],
      "text/latex": [
       "0.572608502996735"
      ],
      "text/markdown": [
       "0.572608502996735"
      ],
      "text/plain": [
       "[1] 0.5726085"
      ]
     },
     "metadata": {},
     "output_type": "display_data"
    }
   ],
   "source": [
    "library(Metrics)\n",
    "rmse(predicted_strength, test_output)"
   ]
  },
  {
   "cell_type": "markdown",
   "metadata": {},
   "source": [
    "Train the multilayer feedforward network with five hidden nodes"
   ]
  },
  {
   "cell_type": "code",
   "execution_count": 30,
   "metadata": {},
   "outputs": [],
   "source": [
    "concrete_model2 <- neuralnet(strength ~ cement + slag + ash + water \n",
    "                             + superplastic + coarseagg + fineagg + age,\n",
    "                             data = train_set, hidden = 5, stepmax=1e7)"
   ]
  },
  {
   "cell_type": "markdown",
   "metadata": {},
   "source": [
    "Print the weights of network"
   ]
  },
  {
   "cell_type": "code",
   "execution_count": 31,
   "metadata": {},
   "outputs": [
    {
     "name": "stdout",
     "output_type": "stream",
     "text": [
      "[[1]]\n",
      "[[1]][[1]]\n",
      "            [,1]         [,2]        [,3]       [,4]       [,5]\n",
      " [1,] -2.4262206  1.102840461 -6.96372782  81.253291 103.802760\n",
      " [2,]  7.9814673  0.598858482  0.34566126  22.281190  23.059025\n",
      " [3,]  6.8989789  0.458746344  0.39086752   3.831447   4.851057\n",
      " [4,]  6.3709554  0.077379138  0.33334452 -21.339340  80.561380\n",
      " [5,]  1.3567863  0.103413897  0.13490362 111.812892 -76.279762\n",
      " [6,]  3.5870677 -0.122306888 -0.02385658  57.063120  52.914721\n",
      " [7,]  4.2785646  0.125650819  0.20713461  26.488834 -14.583119\n",
      " [8,]  5.1355559  0.099971585  0.22126467  30.429686 -13.604506\n",
      " [9,] -0.9711625  0.007642488 -3.05433610 -53.231009   1.913533\n",
      "\n",
      "[[1]][[2]]\n",
      "             [,1]\n",
      "[1,]   -4.4752348\n",
      "[2,]    0.8012037\n",
      "[3,]    6.5510863\n",
      "[4,] -219.9503474\n",
      "[5,]   -0.4940358\n",
      "[6,]    0.6942104\n",
      "\n",
      "\n"
     ]
    }
   ],
   "source": [
    "print(concrete_model2$weight)"
   ]
  },
  {
   "cell_type": "markdown",
   "metadata": {},
   "source": [
    "Test the network "
   ]
  },
  {
   "cell_type": "code",
   "execution_count": 32,
   "metadata": {},
   "outputs": [],
   "source": [
    "predicted_strength2 <- predict(concrete_model2, test_input)"
   ]
  },
  {
   "cell_type": "markdown",
   "metadata": {},
   "source": [
    "The correlation between predicted values and actual values"
   ]
  },
  {
   "cell_type": "code",
   "execution_count": 33,
   "metadata": {},
   "outputs": [
    {
     "data": {
      "text/html": [
       "<table>\n",
       "<caption>A matrix: 1 × 1 of type dbl</caption>\n",
       "<tbody>\n",
       "\t<tr><td>0.9325245</td></tr>\n",
       "</tbody>\n",
       "</table>\n"
      ],
      "text/latex": [
       "A matrix: 1 × 1 of type dbl\n",
       "\\begin{tabular}{l}\n",
       "\t 0.9325245\\\\\n",
       "\\end{tabular}\n"
      ],
      "text/markdown": [
       "\n",
       "A matrix: 1 × 1 of type dbl\n",
       "\n",
       "| 0.9325245 |\n",
       "\n"
      ],
      "text/plain": [
       "     [,1]     \n",
       "[1,] 0.9325245"
      ]
     },
     "metadata": {},
     "output_type": "display_data"
    },
    {
     "data": {
      "image/png": "[encoded data removed]",
      "text/plain": [
       "plot without title"
      ]
     },
     "metadata": {
      "image/png": {
       "height": 420,
       "width": 420
      },
      "text/plain": {
       "height": 420,
       "width": 420
      }
     },
     "output_type": "display_data"
    }
   ],
   "source": [
    "cor(predicted_strength2, test_output)\n",
    "plot(predicted_strength2, test_output)"
   ]
  },
  {
   "cell_type": "markdown",
   "metadata": {},
   "source": [
    "Find the root mean squared error"
   ]
  },
  {
   "cell_type": "code",
   "execution_count": 34,
   "metadata": {},
   "outputs": [
    {
     "data": {
      "text/html": [
       "0.381604627876811"
      ],
      "text/latex": [
       "0.381604627876811"
      ],
      "text/markdown": [
       "0.381604627876811"
      ],
      "text/plain": [
       "[1] 0.3816046"
      ]
     },
     "metadata": {},
     "output_type": "display_data"
    }
   ],
   "source": [
    "rmse(predicted_strength2, test_output)"
   ]
  },
  {
   "cell_type": "code",
   "execution_count": null,
   "metadata": {},
   "outputs": [],
   "source": []
  },
  {
   "cell_type": "code",
   "execution_count": null,
   "metadata": {},
   "outputs": [],
   "source": []
  }
 ],
 "metadata": {
  "kernelspec": {
   "display_name": "R",
   "language": "R",
   "name": "ir"
  },
  "language_info": {
   "codemirror_mode": "r",
   "file_extension": ".r",
   "mimetype": "text/x-r-source",
   "name": "R",
   "pygments_lexer": "r",
   "version": "3.6.3"
  }
 },
 "nbformat": 4,
 "nbformat_minor": 4
}
