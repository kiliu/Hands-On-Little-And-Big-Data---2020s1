{
 "cells": [
  {
   "cell_type": "markdown",
   "metadata": {},
   "source": [
    "# Exercise 04"
   ]
  },
  {
   "cell_type": "markdown",
   "metadata": {},
   "source": [
    "The answers of the following questions are the same as Exercise 03. Write your R codes in the cells provided and submit this file to moodle."
   ]
  },
  {
   "cell_type": "markdown",
   "metadata": {},
   "source": [
    "### Question 1 (20%)"
   ]
  },
  {
   "cell_type": "markdown",
   "metadata": {},
   "source": [
    "Input the following dataset into R. Submit the data file of the dataframe."
   ]
  },
  {
   "cell_type": "markdown",
   "metadata": {},
   "source": [
    "Variable definitions:<table class=\"tg\">\n",
    "<thead>\n",
    "  <tr>\n",
    "    <th class=\"tg-0pky\" style=\"text-align:left\">Full variable name</th>\n",
    "    <th class=\"tg-0pky\" style=\"text-align:left\">R variable name   </th>\n",
    "    <th class=\"tg-0pky\" style=\"text-align:left\">Coding instructions</th>\n",
    "  </tr>\n",
    "</thead>\n",
    "<tbody>\n",
    "  <tr>\n",
    "    <td class=\"tg-0pky\" style=\"text-align:left\">Identification number</td>\n",
    "    <td class=\"tg-0pky\" style=\"text-align:left\">id</td>\n",
    "    <td class=\"tg-0pky\" style=\"text-align:left\">Subject identification number   </td>\n",
    "  </tr>\n",
    "  <tr>\n",
    "    <td class=\"tg-0pky\" style=\"text-align:left\">Gender</td>\n",
    "    <td class=\"tg-0pky\" style=\"text-align:left\">gender</td>\n",
    "    <td class=\"tg-0pky\" style=\"text-align:left\">1=male; 2=female</td>\n",
    "  </tr>\n",
    "  <tr>\n",
    "    <td class=\"tg-0pky\" style=\"text-align:left\">Faculty</td>\n",
    "    <td class=\"tg-0pky\" style=\"text-align:left\">faculty</td>\n",
    "    <td class=\"tg-0pky\" style=\"text-align:left\">1=Faculty of Arts</td>\n",
    "  </tr>\n",
    "  <tr>\n",
    "    <td class=\"tg-0lax\" style=\"text-align:left\" style=\"text-align:left\"></td>\n",
    "    <td class=\"tg-0lax\" style=\"text-align:left\"></td>\n",
    "    <td class=\"tg-0lax\" style=\"text-align:left\">2=School of Business</td>\n",
    "  </tr>\n",
    "  <tr>\n",
    "    <td class=\"tg-0lax\" style=\"text-align:left\"></td>\n",
    "    <td class=\"tg-0lax\" style=\"text-align:left\"></td>\n",
    "    <td class=\"tg-0lax\" style=\"text-align:left\">3=School of Chinese Medicine</td>\n",
    "  </tr>\n",
    "  <tr>\n",
    "    <td class=\"tg-0lax\" style=\"text-align:left\"></td>\n",
    "    <td class=\"tg-0lax\" style=\"text-align:left\"></td>\n",
    "    <td class=\"tg-0lax\" style=\"text-align:left\">4=School of Communication</td>\n",
    "  </tr>\n",
    "  <tr>\n",
    "    <td class=\"tg-0lax\" style=\"text-align:left\"></td>\n",
    "    <td class=\"tg-0lax\" style=\"text-align:left\"></td>\n",
    "    <td class=\"tg-0lax\" style=\"text-align:left\">5=Faculty of Science</td>\n",
    "  </tr>\n",
    "  <tr>\n",
    "    <td class=\"tg-0lax\" style=\"text-align:left\"></td>\n",
    "    <td class=\"tg-0lax\" style=\"text-align:left\"></td>\n",
    "    <td class=\"tg-0lax\" style=\"text-align:left\">6=Faculty of Social Sciences</td>\n",
    "  </tr>\n",
    "  <tr>\n",
    "    <td class=\"tg-0lax\" style=\"text-align:left\"></td>\n",
    "    <td class=\"tg-0lax\" style=\"text-align:left\"></td>\n",
    "    <td class=\"tg-0lax\" style=\"text-align:left\">7=Academy of Visual Arts</td>\n",
    "  </tr>\n",
    "  <tr>\n",
    "    <td class=\"tg-0lax\" style=\"text-align:left\">Weight before the first year</td>\n",
    "    <td class=\"tg-0lax\" style=\"text-align:left\">weightBefore   </td>\n",
    "    <td class=\"tg-0lax\" style=\"text-align:left\">The weight, in kg, of freshman before the first year study</td>\n",
    "  </tr>\n",
    "  <tr>\n",
    "    <td class=\"tg-0lax\" style=\"text-align:left\">Weight after the first year</td>\n",
    "    <td class=\"tg-0lax\" style=\"text-align:left\">weightAfter</td>\n",
    "    <td class=\"tg-0lax\" style=\"text-align:left\">The weight, in kg, of freshman after the   first year study    </td>\n",
    "  </tr>\n",
    "</tbody>\n",
    "</table>"
   ]
  },
  {
   "cell_type": "markdown",
   "metadata": {},
   "source": [
    "Data:</style>\n",
    "<table class=\"tg\">\n",
    "<thead>\n",
    "  <tr>\n",
    "    <th class=\"tg-0pky\" style=\"text-align:left\">Identification number   </th>\n",
    "    <th class=\"tg-0pky\" style=\"text-align:left\">Gender   </th>\n",
    "    <th class=\"tg-0pky\" style=\"text-align:left\">Faculty</th>\n",
    "    <th class=\"tg-0pky\" style=\"text-align:left\">Weight before the first year   </th>\n",
    "    <th class=\"tg-0pky\" style=\"text-align:left\">Weight after the first year</th>\n",
    "  </tr>\n",
    "</thead>\n",
    "<tbody>\n",
    "  <tr>\n",
    "    <td class=\"tg-0pky\" style=\"text-align:left\">100</td>\n",
    "    <td class=\"tg-0pky\" style=\"text-align:left\">Male</td>\n",
    "    <td class=\"tg-0pky\" style=\"text-align:left\">School of Business   </td>\n",
    "    <td class=\"tg-0pky\" style=\"text-align:left\">53.4</td>\n",
    "    <td class=\"tg-0pky\" style=\"text-align:left\">55.4</td>\n",
    "  </tr>\n",
    "  <tr>\n",
    "    <td class=\"tg-0pky\" style=\"text-align:left\">101</td>\n",
    "    <td class=\"tg-0pky\" style=\"text-align:left\">Female</td>\n",
    "    <td class=\"tg-0pky\" style=\"text-align:left\">Faculty of Science</td>\n",
    "    <td class=\"tg-0pky\" style=\"text-align:left\">75.2</td>\n",
    "    <td class=\"tg-0pky\" style=\"text-align:left\">80.8</td>\n",
    "  </tr>\n",
    "  <tr>\n",
    "    <td class=\"tg-0pky\" style=\"text-align:left\">102</td>\n",
    "    <td class=\"tg-0pky\" style=\"text-align:left\">Male</td>\n",
    "    <td class=\"tg-0pky\" style=\"text-align:left\">Faculty of Social Sciences</td>\n",
    "    <td class=\"tg-0pky\" style=\"text-align:left\">61.7</td>\n",
    "    <td class=\"tg-0pky\" style=\"text-align:left\">59.4</td>\n",
    "  </tr>\n",
    "  <tr>\n",
    "    <td class=\"tg-0pky\" style=\"text-align:left\">103</td>\n",
    "    <td class=\"tg-0pky\" style=\"text-align:left\">Male</td>\n",
    "    <td class=\"tg-0pky\" style=\"text-align:left\">School of Communication</td>\n",
    "    <td class=\"tg-0pky\" style=\"text-align:left\">60.7</td>\n",
    "    <td class=\"tg-0pky\" style=\"text-align:left\">70.2</td>\n",
    "  </tr>\n",
    "  <tr>\n",
    "    <td class=\"tg-0pky\" style=\"text-align:left\">104</td>\n",
    "    <td class=\"tg-0pky\" style=\"text-align:left\">Female</td>\n",
    "    <td class=\"tg-0pky\" style=\"text-align:left\">School of Chinese Medicine</td>\n",
    "    <td class=\"tg-0pky\" style=\"text-align:left\">57.1</td>\n",
    "    <td class=\"tg-0pky\" style=\"text-align:left\">58.3</td>\n",
    "  </tr>\n",
    "  <tr>\n",
    "    <td class=\"tg-0pky\" style=\"text-align:left\">105</td>\n",
    "    <td class=\"tg-0pky\" style=\"text-align:left\">Female</td>\n",
    "    <td class=\"tg-0pky\" style=\"text-align:left\">Faculty of Social Sciences</td>\n",
    "    <td class=\"tg-0pky\" style=\"text-align:left\">81.4</td>\n",
    "    <td class=\"tg-0pky\" style=\"text-align:left\">80.4</td>\n",
    "  </tr>\n",
    "  <tr>\n",
    "    <td class=\"tg-0pky\" style=\"text-align:left\">106</td>\n",
    "    <td class=\"tg-0pky\" style=\"text-align:left\">Male</td>\n",
    "    <td class=\"tg-0pky\" style=\"text-align:left\">Faculty of Science</td>\n",
    "    <td class=\"tg-0pky\" style=\"text-align:left\">65.2</td>\n",
    "    <td class=\"tg-0pky\" style=\"text-align:left\">71.5</td>\n",
    "  </tr>\n",
    "  <tr>\n",
    "    <td class=\"tg-0pky\" style=\"text-align:left\">107</td>\n",
    "    <td class=\"tg-0pky\" style=\"text-align:left\">Female</td>\n",
    "    <td class=\"tg-0pky\" style=\"text-align:left\">School of Communication</td>\n",
    "    <td class=\"tg-0pky\" style=\"text-align:left\">74.3</td>\n",
    "    <td class=\"tg-0pky\" style=\"text-align:left\"\">63.1</td>\n",
    "  </tr>\n",
    "</tbody>\n",
    "</table>"
   ]
  },
  {
   "cell_type": "markdown",
   "metadata": {},
   "source": [
    "### Answer:"
   ]
  },
  {
   "cell_type": "code",
   "execution_count": null,
   "metadata": {},
   "outputs": [],
   "source": []
  },
  {
   "cell_type": "markdown",
   "metadata": {},
   "source": [
    "### Question 2 (20%)"
   ]
  },
  {
   "cell_type": "code",
   "execution_count": 1,
   "metadata": {},
   "outputs": [],
   "source": [
    "library(readxl)\n",
    "Dataf <-  as.data.frame(read_excel(\"../../Dataset/exerciseDataset.xlsx\"))"
   ]
  },
  {
   "cell_type": "markdown",
   "metadata": {},
   "source": [
    "What are the variance and the standard deviation of the daily mean temperature of WGL?\n"
   ]
  },
  {
   "cell_type": "markdown",
   "metadata": {},
   "source": [
    "### Answer:"
   ]
  },
  {
   "cell_type": "code",
   "execution_count": null,
   "metadata": {},
   "outputs": [],
   "source": []
  },
  {
   "cell_type": "markdown",
   "metadata": {},
   "source": [
    "### Question 3 (20%)"
   ]
  },
  {
   "cell_type": "markdown",
   "metadata": {},
   "source": [
    "What are the upper and the lower quartiles of the daily mean temperature of WGL?"
   ]
  },
  {
   "cell_type": "markdown",
   "metadata": {},
   "source": [
    "### Answer:"
   ]
  },
  {
   "cell_type": "code",
   "execution_count": null,
   "metadata": {},
   "outputs": [],
   "source": []
  },
  {
   "cell_type": "markdown",
   "metadata": {},
   "source": [
    "### Question 4 (20%)"
   ]
  },
  {
   "cell_type": "markdown",
   "metadata": {},
   "source": [
    "Plot a line graph for the monthly mean of the daily mean temperature of WGL. "
   ]
  },
  {
   "cell_type": "markdown",
   "metadata": {},
   "source": [
    "### Answer:"
   ]
  },
  {
   "cell_type": "code",
   "execution_count": null,
   "metadata": {},
   "outputs": [],
   "source": []
  },
  {
   "cell_type": "markdown",
   "metadata": {},
   "source": [
    "### Question 5 (20%)"
   ]
  },
  {
   "cell_type": "markdown",
   "metadata": {},
   "source": [
    "Plot a boxplot (with four boxes) of the wind speed of WGL for cardinal directions."
   ]
  },
  {
   "cell_type": "markdown",
   "metadata": {},
   "source": [
    "### Answer:"
   ]
  },
  {
   "cell_type": "code",
   "execution_count": null,
   "metadata": {},
   "outputs": [],
   "source": []
  }
 ],
 "metadata": {
  "kernelspec": {
   "display_name": "R",
   "language": "R",
   "name": "ir"
  },
  "language_info": {
   "codemirror_mode": "r",
   "file_extension": ".r",
   "mimetype": "text/x-r-source",
   "name": "R",
   "pygments_lexer": "r",
   "version": "3.6.1"
  }
 },
 "nbformat": 4,
 "nbformat_minor": 4
}
